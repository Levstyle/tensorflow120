{
 "cells": [
  {
   "cell_type": "code",
   "execution_count": 1,
   "metadata": {},
   "outputs": [],
   "source": [
    "import tensorflow as tf\n",
    "assert tf.__version__ >= '1.5', ('This code requires TensorFlow v1.5, '\n",
    "                                   'You have:%s' % tf.__version__)\n",
    "tf.logging.set_verbosity(tf.logging.DEBUG)"
   ]
  },
  {
   "cell_type": "code",
   "execution_count": 15,
   "metadata": {},
   "outputs": [],
   "source": [
    "sparse_matrix = [[0, 7, 0], \n",
    "                 [0, 0, 0], \n",
    "                 [0, 0, 8]]\n",
    "sparse_matrx_tensor = tf.constant(sparse_matrix)"
   ]
  },
  {
   "cell_type": "code",
   "execution_count": 20,
   "metadata": {},
   "outputs": [],
   "source": [
    "IXS = [[0, 1], [2, 2]]\n",
    "VALS = [7, 8]\n",
    "MATRIX_SHAPE = [3, 3]"
   ]
  },
  {
   "cell_type": "code",
   "execution_count": 21,
   "metadata": {},
   "outputs": [],
   "source": [
    "sparse_tensor = tf.SparseTensor(indices=IXS, values=VALS, dense_shape=MATRIX_SHAPE)"
   ]
  },
  {
   "cell_type": "code",
   "execution_count": 22,
   "metadata": {},
   "outputs": [],
   "source": [
    "sess = tf.Session()"
   ]
  },
  {
   "cell_type": "code",
   "execution_count": 23,
   "metadata": {},
   "outputs": [
    {
     "name": "stdout",
     "output_type": "stream",
     "text": [
      "SparseTensorValue(indices=array([[0, 1],\n",
      "       [2, 2]]), values=array([7, 8], dtype=int32), dense_shape=array([3, 3]))\n",
      "[3, 3]\n",
      "convert spare tensor to dense tensor....\n",
      "[[0 7 0]\n",
      " [0 0 0]\n",
      " [0 0 8]]\n"
     ]
    }
   ],
   "source": [
    "spare_tensor_value = sess.run(sparse_tensor)\n",
    "print(spare_tensor_value)\n",
    "print(spare_tensor_value.dense_shape.tolist())\n",
    "print('convert spare tensor to dense tensor....')\n",
    "print(sess.run(tf.sparse_tensor_to_dense(sparse_tensor)))"
   ]
  },
  {
   "cell_type": "code",
   "execution_count": 24,
   "metadata": {},
   "outputs": [],
   "source": [
    "# ndarray to list and cmp\n",
    "assert all([spare_tensor_value.indices.tolist() == IXS, \n",
    "            spare_tensor_value.values.tolist() == VALS,\n",
    "#             spare_tensor_value.dense_shape == sparse_matrx_tensor.shape,\n",
    "            spare_tensor_value.dense_shape.tolist() == MATRIX_SHAPE,\n",
    "           ]), 'something wrong.'"
   ]
  },
  {
   "cell_type": "code",
   "execution_count": 33,
   "metadata": {},
   "outputs": [],
   "source": [
    "# write sparse tensor to tfrecord\n",
    "def _intlist_feature(values):\n",
    "    return tf.train.Feature(int64_list=tf.train.Int64List(value=values))\n",
    "def _floatlist_feature(values):\n",
    "    return tf.train.Feature(float_list=tf.train.FloatList(value=values))\n",
    "def write_to_tfrecord(indices, values, dense_shape, tfrecord_file=None):\n",
    "    inversed_indices = zip(*indices)\n",
    "    features = {}\n",
    "    for i, idx in enumerate(inversed_indices):\n",
    "        features['idx_%s' % i] = _intlist_feature(idx)\n",
    "    features['values'] = _floatlist_feature(values) \n",
    "    print(features)\n",
    "    writer = tf.python_io.TFRecordWriter(tfrecord_file)\n",
    "    example = tf.train.Example(features=tf.train.Features(feature=features))\n",
    "    writer.write(example.SerializeToString())\n",
    "    writer.close()"
   ]
  },
  {
   "cell_type": "code",
   "execution_count": 34,
   "metadata": {},
   "outputs": [
    {
     "name": "stdout",
     "output_type": "stream",
     "text": [
      "{'idx_0': int64_list {\n",
      "  value: 0\n",
      "  value: 2\n",
      "}\n",
      ", 'idx_1': int64_list {\n",
      "  value: 1\n",
      "  value: 2\n",
      "}\n",
      ", 'values': float_list {\n",
      "  value: 7\n",
      "  value: 8\n",
      "}\n",
      "}\n"
     ]
    }
   ],
   "source": [
    "write_to_tfrecord(IXS, VALS, MATRIX_SHAPE, './sparse_tensor.tfrecords')"
   ]
  },
  {
   "cell_type": "code",
   "execution_count": 74,
   "metadata": {},
   "outputs": [],
   "source": [
    "# read sparse tensor from tfrecord\n",
    "def parser(serialized_example):\n",
    "    features = tf.parse_single_example(\n",
    "        serialized_example,\n",
    "        features={'sparse_value': tf.SparseFeature(index_key=['idx_0', 'idx_1'],\n",
    "                                                   value_key='values',\n",
    "                                                   dtype=tf.float32,\n",
    "                                                   size=[3, 3])})\n",
    "    return {'sparse_tensor': features['sparse_value']}, tf.constant('label...')\n",
    "#     return features\n",
    "\n",
    "\n",
    "def create_input_fun(file_path):\n",
    "    def input_fun():\n",
    "        dataset = tf.data.TFRecordDataset([file_path])\n",
    "        dataset = dataset.map(parser)\n",
    "        # write before batch\n",
    "        dataset = dataset.repeat(100)\n",
    "        dataset = dataset.batch(3)\n",
    "\n",
    "        iterator = dataset.make_one_shot_iterator()\n",
    "        value_batch = iterator.get_next()\n",
    "        return value_batch\n",
    "    return input_fun"
   ]
  },
  {
   "cell_type": "code",
   "execution_count": 75,
   "metadata": {
    "scrolled": true
   },
   "outputs": [
    {
     "name": "stdout",
     "output_type": "stream",
     "text": [
      "WARNING:tensorflow:SparseFeature is a complicated feature config and should only be used after careful consideration of VarLenFeature.\n",
      "result:\n",
      "{'sparse_tensor': SparseTensorValue(indices=array([[0, 0, 1],\n",
      "       [0, 1, 1],\n",
      "       [1, 0, 1],\n",
      "       [1, 1, 1],\n",
      "       [2, 0, 1],\n",
      "       [2, 1, 1]]), values=array([ 7.,  8.,  7.,  8.,  7.,  8.], dtype=float32), dense_shape=array([3, 3, 3]))} [b'label...' b'label...' b'label...']\n"
     ]
    }
   ],
   "source": [
    "\n",
    "sparse_input_fun = create_input_fun('./sparse_tensor.tfrecords')\n",
    "values, labels  = sparse_input_fun()\n",
    "with tf.train.MonitoredTrainingSession() as sess:\n",
    "    vals, labs = sess.run([values, labels])\n",
    "    \n",
    "print('result:')\n",
    "print(vals, labs)"
   ]
  },
  {
   "cell_type": "code",
   "execution_count": 77,
   "metadata": {},
   "outputs": [
    {
     "data": {
      "text/plain": [
       "array([[[ 0.,  7.,  0.],\n",
       "        [ 0.,  8.,  0.],\n",
       "        [ 0.,  0.,  0.]],\n",
       "\n",
       "       [[ 0.,  7.,  0.],\n",
       "        [ 0.,  8.,  0.],\n",
       "        [ 0.,  0.,  0.]],\n",
       "\n",
       "       [[ 0.,  7.,  0.],\n",
       "        [ 0.,  8.,  0.],\n",
       "        [ 0.,  0.,  0.]]], dtype=float32)"
      ]
     },
     "execution_count": 77,
     "metadata": {},
     "output_type": "execute_result"
    }
   ],
   "source": [
    "\n",
    "val = vals['sparse_tensor']\n",
    "tf.Session().run(tf.sparse_tensor_to_dense(tf.SparseTensor(val.indices, val.values, val.dense_shape)))"
   ]
  },
  {
   "cell_type": "code",
   "execution_count": null,
   "metadata": {},
   "outputs": [],
   "source": []
  },
  {
   "cell_type": "code",
   "execution_count": null,
   "metadata": {},
   "outputs": [],
   "source": []
  }
 ],
 "metadata": {
  "kernelspec": {
   "display_name": "Python 3",
   "language": "python",
   "name": "python3"
  },
  "language_info": {
   "codemirror_mode": {
    "name": "ipython",
    "version": 3
   },
   "file_extension": ".py",
   "mimetype": "text/x-python",
   "name": "python",
   "nbconvert_exporter": "python",
   "pygments_lexer": "ipython3",
   "version": "3.6.2"
  }
 },
 "nbformat": 4,
 "nbformat_minor": 2
}
